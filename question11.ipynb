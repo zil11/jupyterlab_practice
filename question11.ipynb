{
 "cells": [
  {
   "cell_type": "markdown",
   "id": "579f1985-03fb-456c-b9c9-c60e28e52754",
   "metadata": {},
   "source": [
    "# Jeff Liu\n",
    "Notebook for assignment 7."
   ]
  },
  {
   "cell_type": "code",
   "execution_count": 1,
   "id": "9d46944f-b79f-4660-8c6a-555345f55cb4",
   "metadata": {},
   "outputs": [
    {
     "name": "stdout",
     "output_type": "stream",
     "text": [
      "5.0\n"
     ]
    }
   ],
   "source": [
    "def compute_mean(numbers):\n",
    "    return sum(numbers) / len(numbers)\n",
    "\n",
    "print(compute_mean([2, 4, 6, 8]))"
   ]
  },
  {
   "cell_type": "markdown",
   "id": "a31191bc-00e1-45f7-b9bb-8c660578d446",
   "metadata": {},
   "source": [
    "The function `compute_mean` calculates the arithmetic mean of a list of numbers. The arithmetic mean is the sum of the elements divided by the number of elements.\n",
    "\n",
    "In LaTeX, the mean of a series of numbers \\( x_1, x_2, \\ldots, x_n \\) can be expressed as:\n",
    "\n",
    "1. Inline equation: \\( \\bar{x} = \\frac{1}{n}\\sum_{i=1}^{n} x_i \\)\n",
    "2. Displayed equation:\n",
    "\\[\n",
    "\\bar{x} = \\frac{1}{n}\\sum_{i=1}^{n} x_i\n",
    "\\]"
   ]
  }
 ],
 "metadata": {
  "kernelspec": {
   "display_name": "Python 3 (ipykernel)",
   "language": "python",
   "name": "python3"
  },
  "language_info": {
   "codemirror_mode": {
    "name": "ipython",
    "version": 3
   },
   "file_extension": ".py",
   "mimetype": "text/x-python",
   "name": "python",
   "nbconvert_exporter": "python",
   "pygments_lexer": "ipython3",
   "version": "3.12.2"
  }
 },
 "nbformat": 4,
 "nbformat_minor": 5
}
